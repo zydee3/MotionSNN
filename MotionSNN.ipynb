{
 "cells": [
  {
   "cell_type": "code",
   "execution_count": 22,
   "metadata": {},
   "outputs": [
    {
     "name": "stdout",
     "output_type": "stream",
     "text": [
      "Num Train Samples: 1077\n",
      "Num Test Samples: 264\n",
      "Num Labels: 11\n"
     ]
    }
   ],
   "source": [
    "from importlib import reload\n",
    "from model import dataset\n",
    "\n",
    "reload(dataset)\n",
    "\n",
    "# Define the configuration for the Data Loader\n",
    "LOADER_CONFIG = {\n",
    "    'batch_size': 32,\n",
    "    'use_data_cache': True\n",
    "}\n",
    "\n",
    "# Create the Data Loader\n",
    "train_loader, test_loader, label_map = dataset.load(LOADER_CONFIG)\n",
    "num_classes = sum(label is not None for label in label_map)\n",
    "\n",
    "print(f\"Num Train Samples: {len(train_loader)}\")\n",
    "print(f\"Num Test Samples: {len(test_loader)}\")\n",
    "print(f\"Num Labels: {sum(label is not None for label in label_map)}\")"
   ]
  },
  {
   "cell_type": "code",
   "execution_count": 23,
   "metadata": {},
   "outputs": [],
   "source": [
    "from importlib import reload\n",
    "from model import bsnn\n",
    "\n",
    "reload(bsnn)\n",
    "\n",
    "BSNN_CONFIG = {\n",
    "    'num_blocks': 2,\n",
    "    'num_classes': num_classes,\n",
    "    'img_dimension': 28,\n",
    "}\n",
    "\n",
    "model = bsnn.BSNN(config=BSNN_CONFIG)\n",
    "print(model)"
   ]
  }
 ],
 "metadata": {
  "kernelspec": {
   "display_name": "Python 3",
   "language": "python",
   "name": "python3"
  },
  "language_info": {
   "codemirror_mode": {
    "name": "ipython",
    "version": 3
   },
   "file_extension": ".py",
   "mimetype": "text/x-python",
   "name": "python",
   "nbconvert_exporter": "python",
   "pygments_lexer": "ipython3",
   "version": "3.11.3"
  }
 },
 "nbformat": 4,
 "nbformat_minor": 2
}
