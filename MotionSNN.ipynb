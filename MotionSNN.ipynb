{
 "cells": [
  {
   "cell_type": "code",
   "execution_count": null,
   "metadata": {},
   "outputs": [],
   "source": []
  },
  {
   "cell_type": "code",
   "execution_count": 29,
   "metadata": {},
   "outputs": [
    {
     "name": "stdout",
     "output_type": "stream",
     "text": [
      "Num Train Samples: 1077\n",
      "Num Test Samples: 264\n",
      "Num Labels: 11\n"
     ]
    }
   ],
   "source": [
    "# Data Loading\n",
    "\n",
    "from importlib import reload\n",
    "from model import dataset\n",
    "\n",
    "reload(dataset)\n",
    "\n",
    "# Define the configuration for the Data Loader\n",
    "LOADER_CONFIG = {\n",
    "    'batch_size': 16,\n",
    "    'use_data_cache': True,\n",
    "    'img_dimension': 32,\n",
    "}\n",
    "\n",
    "# Define the transformation\n",
    "transform \n",
    "\n",
    "# Create the Data Loader\n",
    "train_loader, test_loader, label_map = dataset.load(LOADER_CONFIG)\n",
    "num_classes = sum(label is not None for label in label_map)\n",
    "\n",
    "print(f\"Num Train Samples: {len(train_loader)}\")\n",
    "print(f\"Num Test Samples: {len(test_loader)}\")\n",
    "print(f\"Num Labels: {sum(label is not None for label in label_map)}\")"
   ]
  },
  {
   "cell_type": "code",
   "execution_count": 28,
   "metadata": {},
   "outputs": [
    {
     "name": "stdout",
     "output_type": "stream",
     "text": [
      "BSNN(\n",
      "  (layers): Sequential(\n",
      "    (conv0): Conv2d(1, 8, kernel_size=(5, 5), stride=(1, 1))\n",
      "    (pool0): MaxPool2d(kernel_size=2, stride=2, padding=0, dilation=1, ceil_mode=False)\n",
      "    (relu0): Leaky()\n",
      "    (conv1): Conv2d(8, 16, kernel_size=(5, 5), stride=(1, 1))\n",
      "    (pool1): MaxPool2d(kernel_size=2, stride=2, padding=0, dilation=1, ceil_mode=False)\n",
      "    (relu1): Leaky()\n",
      "    (flatten): Flatten(start_dim=1, end_dim=-1)\n",
      "    (output): Linear(in_features=400, out_features=11, bias=True)\n",
      "    (dropout): Dropout(p=0.25, inplace=False)\n",
      "    (leaky_out): Leaky()\n",
      "  )\n",
      ")\n"
     ]
    }
   ],
   "source": [
    "# Model Loading\n",
    "\n",
    "from importlib import reload\n",
    "from model import bsnn\n",
    "\n",
    "reload(bsnn)\n",
    "\n",
    "BSNN_CONFIG = {\n",
    "    'num_blocks': 2,\n",
    "    'num_classes': num_classes,\n",
    "    'img_dimension': 32,\n",
    "}\n",
    "\n",
    "model = bsnn.BSNN(config=BSNN_CONFIG)\n",
    "print(model)"
   ]
  },
  {
   "cell_type": "code",
   "execution_count": null,
   "metadata": {},
   "outputs": [],
   "source": [
    "# Training\n",
    "\n",
    "from importlib import reload\n",
    "from model import train\n",
    "\n",
    "reload(train)\n",
    "\n",
    "TRAIN_CONFIG = {\n",
    "    'num_steps': 15,\n",
    "    'num_epochs': 50,\n",
    "    'learning_rate': 0.0001,\n",
    "    'thresholds': [2, 2, 3],\n",
    "    'activation_threshold': 0.4,\n",
    "}\n",
    "\n",
    "assert(len(TRAIN_CONFIG['thresholds']) == BSNN_CONFIG['num_blocks'])\n",
    "\n"
   ]
  }
 ],
 "metadata": {
  "kernelspec": {
   "display_name": "Python 3",
   "language": "python",
   "name": "python3"
  },
  "language_info": {
   "codemirror_mode": {
    "name": "ipython",
    "version": 3
   },
   "file_extension": ".py",
   "mimetype": "text/x-python",
   "name": "python",
   "nbconvert_exporter": "python",
   "pygments_lexer": "ipython3",
   "version": "3.11.3"
  }
 },
 "nbformat": 4,
 "nbformat_minor": 2
}
