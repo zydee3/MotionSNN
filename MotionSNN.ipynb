{
 "cells": [
  {
   "cell_type": "code",
   "execution_count": 15,
   "metadata": {},
   "outputs": [],
   "source": [
    "# Check CUDA Availability\n",
    "\n",
    "import torch\n",
    "assert torch.cuda.is_available()"
   ]
  },
  {
   "cell_type": "code",
   "execution_count": 19,
   "metadata": {},
   "outputs": [],
   "source": [
    "# Import and Reload All Modules\n",
    "\n",
    "from importlib import reload\n",
    "from model import binarize, bsnn, config, dataset, trainer\n",
    "\n",
    "from tonic.datasets import DVSGesture\n",
    "from tonic.transforms import Compose, Denoise, Downsample, ToFrame\n",
    "from tonic.utils import plot_animation\n",
    "from IPython.display import HTML\n",
    "\n",
    "\n",
    "reload(binarize)\n",
    "reload(bsnn)\n",
    "reload(config)\n",
    "reload(dataset)\n",
    "reload(trainer)\n",
    "\n",
    "should_log_outputs = True"
   ]
  },
  {
   "cell_type": "code",
   "execution_count": 20,
   "metadata": {},
   "outputs": [
    {
     "name": "stdout",
     "output_type": "stream",
     "text": [
      "Train Configuration:\n",
      "\t00. num_blocks: 2\n",
      "\t01. base_width: 8\n",
      "\t02. base_factor: 2\n",
      "\t03. pool_kernel_size: 2\n",
      "\t04. pool_stride_size: 2\n",
      "\t05. conv_kernel_size: 5\n",
      "\t06. conv_stride_size: 1\n",
      "\t07. conv_padding_size: 0\n",
      "\t08. conv_dilation_size: 1\n",
      "\t09. num_classes: 10\n",
      "\t10. img_height: 32\n",
      "\t11. img_width: 32\n",
      "\t12. img_num_frames: 32\n",
      "\t13. frame_filter_threshold: 10000\n",
      "\t14. num_epochs: 500\n",
      "\t15. num_trials: 100\n",
      "\t16. num_steps: 100\n",
      "\t17. beta_value: 0.41628667820177095\n",
      "\t18. beta_range: [0.9, 0.99]\n",
      "\t19. thresholds: [22.37297929074331, 1.738555820352834, 19.083022150261986]\n",
      "\t20. dropout: 0.48143584931131816\n",
      "\t21. slope: 0.9870918226886212\n",
      "\t22. correct_rate: 0.8\n",
      "\t23. incorrect_rate: 0.2\n",
      "\t24. is_batch_norm: False\n",
      "\n",
      "Loader Configuration:\n",
      "\t00. data_path: ./train/DVSGesture\n",
      "\t01. data_cache_path: ./cache/DVSGesture\n",
      "\t02. label_csv_path: ./train/DVSGesture/gesture_mapping.csv\n",
      "\t03. batch_size: 32\n",
      "\t04. use_data_cache: True\n"
     ]
    }
   ],
   "source": [
    "# Load Configurations\n",
    "\n",
    "TRAIN_CONFIG = config.DEFAULT_BSNN_CONFIG_VALUES\n",
    "LOADER_CONFIG = config.DEFAULT_LOADER_CONFIG_VALUES\n",
    "\n",
    "if should_log_outputs:\n",
    "    print(\"Train Configuration:\")\n",
    "    for idx, (key, value) in enumerate(TRAIN_CONFIG.items()):\n",
    "        print(f\"\\t{idx:02d}. {key}: {value}\")\n",
    "\n",
    "    print(\"\\nLoader Configuration:\")\n",
    "    for idx, (key, value) in enumerate(LOADER_CONFIG.items()):\n",
    "        print(f\"\\t{idx:02d}. {key}: {value}\")"
   ]
  },
  {
   "cell_type": "code",
   "execution_count": 22,
   "metadata": {},
   "outputs": [
    {
     "name": "stdout",
     "output_type": "stream",
     "text": [
      "\n",
      "Train Data: DiskCachedDataset(dataset=DVSGesture, cache_path='./cache/DVSGesture', reset_cache=False, transform=None, target_transform=None, transforms=None, num_copies=1, compress=True) (1077)\n",
      "Test Data: DiskCachedDataset(dataset=DVSGesture, cache_path='./cache/DVSGesture', reset_cache=False, transform=None, target_transform=None, transforms=None, num_copies=1, compress=True) (264)\n",
      "Labels:\n",
      "\t00. None\n",
      "\t01. hand_clapping\n",
      "\t02. right_hand_wave\n",
      "\t03. left_hand_wave\n",
      "\t04. right_arm_clockwise \n",
      "\t05. right_arm_counter_clockwise \n",
      "\t06. left_arm_clockwise \n",
      "\t07. left_arm_counter_clockwise \n",
      "\t08. arm_roll\n",
      "\t09. air_drums\n",
      "\t10. air_guitar\n",
      "\t11. other_gestures\n"
     ]
    }
   ],
   "source": [
    "# Load Dataset and Labels\n",
    "\n",
    "transforms = Compose([\n",
    "    Denoise(filter_time=TRAIN_CONFIG['frame_filter_threshold']),\n",
    "    Downsample(sensor_size=DVSGesture.sensor_size, target_size=(TRAIN_CONFIG['img_height'], TRAIN_CONFIG['img_width'])),\n",
    "    ToFrame(sensor_size=(TRAIN_CONFIG['img_height'], TRAIN_CONFIG['img_width'], 2), n_time_bins=TRAIN_CONFIG['img_width']), \n",
    "])\n",
    "\n",
    "train, test, labels = dataset.load(LOADER_CONFIG)\n",
    "train = dataset.to_cache(LOADER_CONFIG, train)\n",
    "test = dataset.to_cache(LOADER_CONFIG, test)\n",
    "\n",
    "if should_log_outputs:\n",
    "    print(f\"\\nTrain Data: {train} ({len(train)})\")\n",
    "    print(f\"Test Data: {test} ({len(test)})\")\n",
    "    \n",
    "    print(f\"Labels:\")\n",
    "    for idx, label in enumerate(labels):\n",
    "        print(f\"\\t{idx:02d}. {label}\")"
   ]
  },
  {
   "cell_type": "code",
   "execution_count": 24,
   "metadata": {},
   "outputs": [
    {
     "name": "stdout",
     "output_type": "stream",
     "text": [
      "Sample\n",
      "\t01. Event Count: 213025\n",
      "\t02. Frame Shape: (100, 2, 128, 128)\n"
     ]
    },
    {
     "data": {
      "image/png": "[encoded data removed]",
      "text/plain": [
       "<Figure size 500x500 with 1 Axes>"
      ]
     },
     "metadata": {},
     "output_type": "display_data"
    }
   ],
   "source": [
    "# Show Samples\n",
    "\n",
    "if should_log_outputs:\n",
    "    events, label = train[0]\n",
    "    frames = dataset.to_frames(events)\n",
    "    \n",
    "    print(\"Sample\")\n",
    "    print(\"\\t01. Event Count:\", len(events))\n",
    "    print(\"\\t02. Frame Shape:\", frames.shape)\n",
    "\n",
    "    frames = dataset.normalize_frames(frames)\n",
    "    animation = plot_animation(frames).to_jshtml()\n",
    "    HTML(animation)"
   ]
  },
  {
   "cell_type": "code",
   "execution_count": 28,
   "metadata": {},
   "outputs": [
    {
     "name": "stdout",
     "output_type": "stream",
     "text": [
      "BSNN(\n",
      "  (layers): Sequential(\n",
      "    (conv0): Conv2d(1, 8, kernel_size=(5, 5), stride=(1, 1))\n",
      "    (pool0): MaxPool2d(kernel_size=2, stride=2, padding=0, dilation=1, ceil_mode=False)\n",
      "    (relu0): Leaky()\n",
      "    (conv1): Conv2d(8, 16, kernel_size=(5, 5), stride=(1, 1))\n",
      "    (pool1): MaxPool2d(kernel_size=2, stride=2, padding=0, dilation=1, ceil_mode=False)\n",
      "    (relu1): Leaky()\n",
      "    (flatten): Flatten(start_dim=1, end_dim=-1)\n",
      "    (output): Linear(in_features=400, out_features=11, bias=True)\n",
      "    (dropout): Dropout(p=0.25, inplace=False)\n",
      "    (leaky_out): Leaky()\n",
      "  )\n",
      ")\n"
     ]
    }
   ],
   "source": [
    "# Model Loading\n",
    "\n",
    "from importlib import reload\n",
    "from model import bsnn\n",
    "\n",
    "reload(bsnn)\n",
    "\n",
    "BSNN_CONFIG = {\n",
    "    'num_blocks': 2,\n",
    "    'num_classes': num_classes,\n",
    "    'img_dimension': 32,\n",
    "}\n",
    "\n",
    "model = bsnn.BSNN(config=BSNN_CONFIG)\n",
    "print(model)"
   ]
  },
  {
   "cell_type": "code",
   "execution_count": null,
   "metadata": {},
   "outputs": [],
   "source": [
    "# Training\n",
    "\n",
    "from importlib import reload\n",
    "from model import train\n",
    "\n",
    "reload(train)\n",
    "\n",
    "TRAIN_CONFIG = {\n",
    "    'num_steps': 15,\n",
    "    'num_epochs': 50,\n",
    "    'learning_rate': 0.0001,\n",
    "    'thresholds': [2, 2, 3],\n",
    "    'activation_threshold': 0.4,\n",
    "}\n",
    "\n",
    "assert(len(TRAIN_CONFIG['thresholds']) == BSNN_CONFIG['num_blocks'])\n",
    "\n"
   ]
  }
 ],
 "metadata": {
  "kernelspec": {
   "display_name": "Python 3",
   "language": "python",
   "name": "python3"
  },
  "language_info": {
   "codemirror_mode": {
    "name": "ipython",
    "version": 3
   },
   "file_extension": ".py",
   "mimetype": "text/x-python",
   "name": "python",
   "nbconvert_exporter": "python",
   "pygments_lexer": "ipython3",
   "version": "3.11.3"
  }
 },
 "nbformat": 4,
 "nbformat_minor": 2
}
