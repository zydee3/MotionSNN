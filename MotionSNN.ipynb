{
 "cells": [
  {
   "cell_type": "code",
   "execution_count": 5,
   "metadata": {},
   "outputs": [
    {
     "name": "stdout",
     "output_type": "stream",
     "text": [
      "Sequential(\n",
      "  (conv0): Conv2d(1, 8, kernel_size=(5, 5), stride=(1, 1))\n",
      "  (pool0): MaxPool2d(kernel_size=2, stride=2, padding=0, dilation=1, ceil_mode=False)\n",
      "  (relu0): Leaky()\n",
      "  (conv1): Conv2d(8, 16, kernel_size=(5, 5), stride=(1, 1))\n",
      "  (pool1): MaxPool2d(kernel_size=2, stride=2, padding=0, dilation=1, ceil_mode=False)\n",
      "  (relu1): Leaky()\n",
      "  (flatten): Flatten(start_dim=1, end_dim=-1)\n",
      "  (output): Linear(in_features=256, out_features=10, bias=True)\n",
      "  (relu_out): Leaky()\n",
      ")\n",
      "\n",
      "Sample Count: 1077\n",
      "\n",
      "Sample Labels: [None, 'hand_clapping', 'right_hand_wave', 'left_hand_wave', 'right_arm_clockwise ', 'right_arm_counter_clockwise ', 'left_arm_clockwise ', 'left_arm_counter_clockwise ', 'arm_roll', 'air_drums', 'air_guitar', 'other_gestures']\n"
     ]
    }
   ],
   "source": [
    "from importlib import reload\n",
    "from model import bsnn\n",
    "from model import dataset\n",
    "\n",
    "# Reload the modules to reflect the latest changes\n",
    "reload(bsnn)\n",
    "reload(dataset)\n",
    "\n",
    "# Define the configuration for the Data Loader and BSNN\n",
    "LOADER_CONFIG = {\n",
    "    'data_path': './train/DVSGesture',\n",
    "    'data_cache_path': './cache/DVSGesture',\n",
    "    'label_csv_path': './train/DVSGesture/gesture_mapping.csv',\n",
    "    'batch_size': 32,\n",
    "    'use_data_cache': True\n",
    "}\n",
    "\n",
    "BSNN_CONFIG = {\n",
    "    'num_blocks': 2,\n",
    "    'num_classes': 10,\n",
    "    'img_dimension': 28,\n",
    "}\n",
    "\n",
    "# Create the BSNN model and the Data Loader\n",
    "loader, labels = dataset.load(LOADER_CONFIG)\n",
    "model = bsnn.BSNN(config=BSNN_CONFIG)"
   ]
  }
 ],
 "metadata": {
  "kernelspec": {
   "display_name": "Python 3",
   "language": "python",
   "name": "python3"
  },
  "language_info": {
   "codemirror_mode": {
    "name": "ipython",
    "version": 3
   },
   "file_extension": ".py",
   "mimetype": "text/x-python",
   "name": "python",
   "nbconvert_exporter": "python",
   "pygments_lexer": "ipython3",
   "version": "3.11.3"
  }
 },
 "nbformat": 4,
 "nbformat_minor": 2
}
